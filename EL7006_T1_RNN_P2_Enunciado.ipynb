{
  "cells": [
    {
      "cell_type": "markdown",
      "metadata": {
        "id": "view-in-github",
        "colab_type": "text"
      },
      "source": [
        "<a href=\"https://colab.research.google.com/github/d4vidi4n/borradores/blob/main/EL7006_T1_RNN_P2_Enunciado.ipynb\" target=\"_parent\"><img src=\"https://colab.research.google.com/assets/colab-badge.svg\" alt=\"Open In Colab\"/></a>"
      ]
    },
    {
      "cell_type": "markdown",
      "metadata": {
        "id": "ZB8UcVxzNVxg"
      },
      "source": [
        "<h1> <center> EL7006 - Tarea Nº1 <br /> Redes Recurrentes y LSTM  </center> </h1>\n",
        "<h3> <center>Profesor: Pablo Estévez <br />\n",
        "Profesor Auxiliar: Jhon Intriago <br />\n",
        "Ayudantes: Sebastián Guzmán y Francisco Soto <br />\n",
        "<h3><center>Semestre: Primavera 2025 </center></h3>"
      ]
    },
    {
      "cell_type": "markdown",
      "metadata": {
        "id": "NiGmw-NFOalR"
      },
      "source": [
        "En esta tarea deberán contestar preguntas e implementar código relacionado a las redes neuronales recurrentes, en particular a las tipo Long Short-Term Memory (LSTM). Se recomienda leer el capítulo 10 de [Deep Learning Book](https://www.deeplearningbook.org/).\n",
        "\n",
        "Para entregar su tarea, suba a u-cursos un archivo zip que contenga los notebooks de los problemas 1 y 2, desarrollados con sus respuestas e implementaciones, junto con cualquier archivo adicional necesario para ejecutarlos (excluyendo la base de datos). Sea claro en sus respuestas, y comente adecuadamente su código. No es necesario redactar un informe."
      ]
    },
    {
      "cell_type": "markdown",
      "metadata": {
        "id": "iQCWklj9PlJ_"
      },
      "source": [
        "<h1><center><u>Problema 2: Procesamiento de voz usando RNN </u></center></h1>\n",
        "\n",
        "En este problema, usted debe implementar y entrenar una red neuronal recurrente (RNN) para procesar señales de voz y predecir la palabra que mencionan. Debe comparar el desempeño obtenido al usar una Vanilla RNN y una LSTM RNN. Se les entrega todo el preprocesamiento de los datos en este notebook.\n",
        "\n",
        "Si implementa sus modelos correctamente, debería obtener un accuracy en el rango 86-91 %.\n",
        "\n",
        "<h2>Preliminares: Google Colab</h2>\n",
        "\n",
        "Para evitar limitaciones de hardware, ejecute este notebook en Google Colab con GPU. Para ello siga estos pasos:\n",
        "\n",
        "- Suba este notebook a su cuenta de Google Drive.\n",
        "- Abra el notebook. Se hará automáticamente en Google Colab.\n",
        "- En el menú \"Entorno de ejecución\", seleccione \"Cambiar tipo de entorno de ejecución\" y en \"Acelerador por hardware\" seleccione GPU.\n",
        "\n",
        "Ejecute la siguiente celda para descargar la base de datos de este problema, crear la carpeta \"speech_commands\", y descomprimir la base de datos dentro de dicha carpeta.\n",
        "\n"
      ]
    },
    {
      "cell_type": "code",
      "execution_count": 1,
      "metadata": {
        "colab": {
          "base_uri": "https://localhost:8080/"
        },
        "id": "ETO0lp_eO3lG",
        "outputId": "fbb74679-14a5-4284-9996-fac32f8c2ec4"
      },
      "outputs": [
        {
          "output_type": "stream",
          "name": "stdout",
          "text": [
            "--2025-09-03 04:14:50--  https://storage.googleapis.com/download.tensorflow.org/data/speech_commands_v0.02.tar.gz\n",
            "Resolving storage.googleapis.com (storage.googleapis.com)... 74.125.128.207, 74.125.143.207, 173.194.69.207, ...\n",
            "Connecting to storage.googleapis.com (storage.googleapis.com)|74.125.128.207|:443... connected.\n",
            "HTTP request sent, awaiting response... 200 OK\n",
            "Length: 2428923189 (2.3G) [application/gzip]\n",
            "Saving to: ‘speech_commands_v0.02.tar.gz’\n",
            "\n",
            "speech_commands_v0. 100%[===================>]   2.26G  39.9MB/s    in 59s     \n",
            "\n",
            "2025-09-03 04:15:50 (39.2 MB/s) - ‘speech_commands_v0.02.tar.gz’ saved [2428923189/2428923189]\n",
            "\n"
          ]
        }
      ],
      "source": [
        "!wget https://storage.googleapis.com/download.tensorflow.org/data/speech_commands_v0.02.tar.gz\n",
        "!mkdir speech_commands\n",
        "!tar -xf speech_commands_v0.02.tar.gz -C speech_commands"
      ]
    },
    {
      "cell_type": "markdown",
      "metadata": {
        "id": "BAjRlqrrTlDt"
      },
      "source": [
        "La celda anterior solo se necesita ejecutar la primera vez que conecta el notebook a un entorno de ejecución. En caso de dudas, puede inspeccionar los archivos que existen en su máquina asignada con la siguiente celda. Si la carpeta \"speech_commands\" ya existe, significa que ya existe la base de datos."
      ]
    },
    {
      "cell_type": "code",
      "execution_count": 2,
      "metadata": {
        "colab": {
          "base_uri": "https://localhost:8080/"
        },
        "id": "kpc41lCSOZ7j",
        "outputId": "6ee2e359-a3d6-4407-b711-50acf9326117"
      },
      "outputs": [
        {
          "output_type": "stream",
          "name": "stdout",
          "text": [
            "sample_data  speech_commands  speech_commands_v0.02.tar.gz\n"
          ]
        }
      ],
      "source": [
        "!ls"
      ]
    },
    {
      "cell_type": "markdown",
      "metadata": {
        "id": "pct2eMfZXMU6"
      },
      "source": [
        "Google Colab tiene preinstaladas casi todas las librerías que necesitamos, excepto una. Ejecute la siguiente celda para instalar la librería \"python_speech_features\" que nos permitirá procesar las señales de voz."
      ]
    },
    {
      "cell_type": "code",
      "execution_count": 3,
      "metadata": {
        "colab": {
          "base_uri": "https://localhost:8080/"
        },
        "id": "D1p-qUIdNNNg",
        "outputId": "eb7db156-b966-47db-863d-2eeffcc014f5"
      },
      "outputs": [
        {
          "output_type": "stream",
          "name": "stdout",
          "text": [
            "Collecting python_speech_features\n",
            "  Downloading python_speech_features-0.6.tar.gz (5.6 kB)\n",
            "  Preparing metadata (setup.py) ... \u001b[?25l\u001b[?25hdone\n",
            "Building wheels for collected packages: python_speech_features\n",
            "  Building wheel for python_speech_features (setup.py) ... \u001b[?25l\u001b[?25hdone\n",
            "  Created wheel for python_speech_features: filename=python_speech_features-0.6-py3-none-any.whl size=5868 sha256=92cf1309e9b60417d1c163a8f81c7ecfe587e589f78a971458b806b9386a23a4\n",
            "  Stored in directory: /root/.cache/pip/wheels/60/90/3c/4b5996a95d363fa14525597a19146a940bec467b44b2a14580\n",
            "Successfully built python_speech_features\n",
            "Installing collected packages: python_speech_features\n",
            "Successfully installed python_speech_features-0.6\n"
          ]
        }
      ],
      "source": [
        "!pip install python_speech_features"
      ]
    },
    {
      "cell_type": "markdown",
      "metadata": {
        "id": "2IHC66ugZVnV"
      },
      "source": [
        "<h2>Librerías</h2>"
      ]
    },
    {
      "cell_type": "code",
      "execution_count": 4,
      "metadata": {
        "id": "ONu_2L49ZbEA"
      },
      "outputs": [],
      "source": [
        "import os\n",
        "import json\n",
        "import time\n",
        "\n",
        "import IPython.display as ipd\n",
        "import numpy as np\n",
        "import matplotlib.pyplot as plt\n",
        "%matplotlib inline\n",
        "from python_speech_features import mfcc\n",
        "from scipy.io import wavfile"
      ]
    },
    {
      "cell_type": "markdown",
      "metadata": {
        "id": "veCNwBDLYJGB"
      },
      "source": [
        "<h2>Procesamiento de voz con \"Speech Commands Dataset\"</h2>\n",
        "\n",
        "La base de datos [Speech Commands](https://arxiv.org/abs/1804.03209) consiste en audios de un segundo de duración muestreados a 16kHz en donde diversas personas fueron grabadas diciendo comandos cortos en inglés. Incluye 10 comandos principales, algunas palabras irrelevantes, silencios, y ruidos de fondo. Su principal motivación es ser una puerta de entrada para experimentar con modelos de procesamiento de voz. El objetivo es detectar la pronunciación de una única palabra dentro de un pequeño conjunto de palabras posibles.\n",
        "\n",
        "A continuación, puede escuchar un ejemplo de la clase \"yes\" y un ejemplo de la clase \"no\"."
      ]
    },
    {
      "cell_type": "code",
      "execution_count": 5,
      "metadata": {
        "id": "RvT_dwsFdgM4"
      },
      "outputs": [],
      "source": [
        "demo_yes = \"speech_commands/yes/0a2b400e_nohash_0.wav\"\n",
        "demo_no = \"speech_commands/no/0a2b400e_nohash_0.wav\"\n",
        "demo_tree = \"speech_commands/tree/05cf43ef_nohash_0.wav\""
      ]
    },
    {
      "cell_type": "code",
      "source": [
        "print(\"Example from class 'tree'\")\n",
        "ipd.Audio(demo_tree)"
      ],
      "metadata": {
        "colab": {
          "base_uri": "https://localhost:8080/",
          "height": 93
        },
        "id": "9gDn7PuYj0sZ",
        "outputId": "aed0ac29-ae28-4e81-a9e4-8fb27e004d78"
      },
      "execution_count": 6,
      "outputs": [
        {
          "output_type": "stream",
          "name": "stdout",
          "text": [
            "Example from class 'tree'\n"
          ]
        },
        {
          "output_type": "execute_result",
          "data": {
            "text/plain": [
              "<IPython.lib.display.Audio object>"
            ],
            "text/html": [
              "\n",
              "                <audio  controls=\"controls\" >\n",
              "                    <source src=\"data:audio/x-wav;base64,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\" type=\"audio/x-wav\" />\n",
              "                    Your browser does not support the audio element.\n",
              "                </audio>\n",
              "              "
            ]
          },
          "metadata": {},
          "execution_count": 6
        }
      ]
    },
    {
      "cell_type": "code",
      "execution_count": 7,
      "metadata": {
        "colab": {
          "base_uri": "https://localhost:8080/",
          "height": 93
        },
        "id": "wdIVT_W1eCqv",
        "outputId": "091244a3-a731-4064-b039-db2967f15f2c"
      },
      "outputs": [
        {
          "output_type": "stream",
          "name": "stdout",
          "text": [
            "Example from class 'yes'\n"
          ]
        },
        {
          "output_type": "execute_result",
          "data": {
            "text/plain": [
              "<IPython.lib.display.Audio object>"
            ],
            "text/html": [
              "\n",
              "                <audio  controls=\"controls\" >\n",
              "                    <source src=\"data:audio/x-wav;base64,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\" type=\"audio/x-wav\" />\n",
              "                    Your browser does not support the audio element.\n",
              "                </audio>\n",
              "              "
            ]
          },
          "metadata": {},
          "execution_count": 7
        }
      ],
      "source": [
        "print(\"Example from class 'yes'\")\n",
        "ipd.Audio(demo_yes)"
      ]
    },
    {
      "cell_type": "code",
      "execution_count": 8,
      "metadata": {
        "colab": {
          "base_uri": "https://localhost:8080/",
          "height": 93
        },
        "id": "1uVZtucveC14",
        "outputId": "01532ee9-c518-4ddb-a217-7c30514fcea3"
      },
      "outputs": [
        {
          "output_type": "stream",
          "name": "stdout",
          "text": [
            "Example from class 'no'\n"
          ]
        },
        {
          "output_type": "execute_result",
          "data": {
            "text/plain": [
              "<IPython.lib.display.Audio object>"
            ],
            "text/html": [
              "\n",
              "                <audio  controls=\"controls\" >\n",
              "                    <source src=\"data:audio/x-wav;base64,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\" type=\"audio/x-wav\" />\n",
              "                    Your browser does not support the audio element.\n",
              "                </audio>\n",
              "              "
            ]
          },
          "metadata": {},
          "execution_count": 8
        }
      ],
      "source": [
        "print(\"Example from class 'no'\")\n",
        "ipd.Audio(demo_no)"
      ]
    },
    {
      "cell_type": "markdown",
      "metadata": {
        "id": "IobUAtvbfzkM"
      },
      "source": [
        "Normalmente, los modelos de procesamiento de voz no operan directamente sobre la señal de audio, sino que sobre una versión transformada de la misma que aprovecha el contenido localizado en diferentes bandas de frecuencia.\n",
        "\n",
        "El método más común calcula [Mel-frequency Cepstrum Coefficients (MFCC)](https://en.wikipedia.org/wiki/Mel-frequency_cepstrum). A grandes rasgos, se basa en segmentar la señal en varias ventanas consecutivas de ancho $winlen$ cuyos centros estas separados en $winstep$. En cada una de estas ventanas, se calculan coeficientes en base a la descomposición en frecuencia obtenida por la FFT.\n",
        "\n",
        "Valores típicos para este dominio son ventanas de tamaño 25-40 milisegundos y separaciones que rondan el 50% del ancho. Además, en cada ventana se suelen calcular 13 coeficientes. Para disminuir el costo computacional, a lo largo de esta tarea se usa un ancho de ventana de 100 ms con paso de 50 ms. En consecuencia, cada señal de audio de 1 segundo se transforma en una secuencia de largo 19 en donde en cada paso existen 13 características.\n",
        "\n",
        "A continuación, se grafican las señales de audio de los ejemplos escuchados anteriormente junto con sus MFCC."
      ]
    },
    {
      "cell_type": "code",
      "execution_count": 9,
      "metadata": {
        "colab": {
          "base_uri": "https://localhost:8080/",
          "height": 489
        },
        "id": "NJGZo8CYf5qw",
        "outputId": "f927ea5d-f68f-4998-c150-9192833515d9"
      },
      "outputs": [
        {
          "output_type": "display_data",
          "data": {
            "text/plain": [
              "<Figure size 800x480 with 4 Axes>"
            ],
            "image/png": "[encoded data removed]"
          },
          "metadata": {}
        }
      ],
      "source": [
        "# Load demo data\n",
        "sr, audio_yes = wavfile.read(demo_yes) #Entrega el tamaño del archivo de audio y el audio propiamente tal\n",
        "sr, audio_no = wavfile.read(demo_no)\n",
        "time_axis = np.arange(audio_yes.size) / sr\n",
        "\n",
        "# Normalize audio to zero mean and unit variance\n",
        "audio_yes = audio_yes.astype(np.float32) # porque se le cambia el formato?\n",
        "audio_yes = (audio_yes - audio_yes.mean()) / audio_yes.std()\n",
        "audio_no = audio_no.astype(np.float32)\n",
        "audio_no = (audio_no - audio_no.mean()) / audio_no.std()\n",
        "\n",
        "# Compute MFCC\n",
        "winlen_ms = 100  # Window size, in miliseconds\n",
        "winstep_ms = 0.5 * winlen_ms  # Step size for sliding window, in miliseconds\n",
        "winlen = winlen_ms / 1000\n",
        "winstep = winstep_ms / 1000\n",
        "nfft = int(2 ** np.ceil(np.log2(sr * winlen)))  # Closest power of 2\n",
        "mfcc_yes = mfcc(audio_yes, sr, winlen=winlen, winstep=winstep, numcep=13, nfft=nfft)\n",
        "mfcc_no = mfcc(audio_no, sr, winlen=winlen, winstep=winstep, numcep=13, nfft=nfft)\n",
        "\n",
        "# Plot audio and MFCC\n",
        "fig, axes = plt.subplots(2, 2, figsize=(10, 6), dpi=80, sharex=True)\n",
        "axes[0, 0].plot(time_axis, audio_yes, linewidth=0.5)\n",
        "axes[0, 0].set_title(\"'yes' example: audio (%d timesteps)\" % audio_yes.size)\n",
        "axes[0, 0].set_xlim([0, 1])\n",
        "axes[0, 0].set_ylim([-8, 8])\n",
        "axes[0, 1].plot(time_axis, audio_no, linewidth=0.5)\n",
        "axes[0, 1].set_title(\"'no' example: audio (%d timesteps)\" % audio_no.size)\n",
        "axes[0, 1].set_xlim([0, 1])\n",
        "axes[0, 1].set_ylim([-8, 8])\n",
        "axes[1, 0].imshow(mfcc_yes.T, interpolation=\"none\", aspect=\"auto\", extent=[0, 1, 1, 13], origin='lower')\n",
        "axes[1, 0].set_xlabel(\"Time [s]\")\n",
        "axes[1, 0].set_title(\"'yes' example: MFCC (%d timesteps)\" % mfcc_yes.shape[0])\n",
        "axes[1, 0].set_ylabel(\"Coefficient\")\n",
        "axes[1, 0].set_yticks([1, 5, 9, 13])\n",
        "axes[1, 1].imshow(mfcc_no.T, interpolation=\"none\", aspect=\"auto\", extent=[0, 1, 1, 13], origin='lower')\n",
        "axes[1, 1].set_yticks([1, 5, 9, 13])\n",
        "axes[1, 1].set_xlabel(\"Time [s]\")\n",
        "axes[1, 1].set_title(\"'no' example: MFCC (%d timesteps)\" % mfcc_no.shape[0])\n",
        "plt.tight_layout()\n",
        "plt.show()"
      ]
    },
    {
      "cell_type": "markdown",
      "metadata": {
        "id": "yx_ESakdn218"
      },
      "source": [
        "<h2>Preparación de los datos</h2>\n",
        "\n",
        "Por simplicidad, se reducirá la base de datos a los 10 comandos principales. Es decir, cada ejemplo solo puede pertenecer a una de las siguientes clases: \"down\", \"go\", \"left\", \"no\", \"off\", \"on\", \"right\", \"stop\", \"up\", \"yes\". Por lo tanto, el modelo que implemente debe clasificar cada ejemplo en una de estas 10 posibles clases.\n",
        "\n",
        "Tampoco se usarán perturbaciones de los datos para mejorar la generalización (data augmentation), tales como adición de ruido de fondo, pequeños cortes, desplazamientos del tono o dilataciones temporales, que son típicamente usadas en modelos del estado del arte.\n",
        "\n",
        "Cada una de los 10 comandos mencionados anteriormente será asociado a una categoría numérica (etiqueta) que va del 0 al 9."
      ]
    },
    {
      "cell_type": "code",
      "execution_count": 10,
      "metadata": {
        "id": "cOOZdJHDFSFb"
      },
      "outputs": [],
      "source": [
        "DATASET_PATH = \"speech_commands\"\n",
        "WORDS = [\"down\", \"go\", \"left\", \"no\", \"off\", \"on\", \"right\", \"stop\", \"up\", \"yes\"]\n",
        "WORDS_LABEL = [0, 1, 2, 3, 4, 5, 6, 7, 8, 9]"
      ]
    },
    {
      "cell_type": "markdown",
      "metadata": {
        "id": "uuYxFa1Wslgf"
      },
      "source": [
        "En primer lugar, se limpiarán los datos removiendo aquellos ejemplos con una duración inferior a 1 segundo."
      ]
    },
    {
      "cell_type": "code",
      "execution_count": 11,
      "metadata": {
        "colab": {
          "base_uri": "https://localhost:8080/"
        },
        "id": "bDNLyyJ8FVWR",
        "outputId": "f9cd27aa-c1c2-409f-83de-f379f846d454"
      },
      "outputs": [
        {
          "output_type": "stream",
          "name": "stdout",
          "text": [
            "Word 'down': 337 files removed\n",
            "Word 'go': 402 files removed\n",
            "Word 'left': 299 files removed\n",
            "Word 'no': 396 files removed\n",
            "Word 'off': 318 files removed\n",
            "Word 'on': 374 files removed\n",
            "Word 'right': 330 files removed\n",
            "Word 'stop': 309 files removed\n",
            "Word 'up': 454 files removed\n",
            "Word 'yes': 352 files removed\n"
          ]
        }
      ],
      "source": [
        "for word in WORDS:\n",
        "    removed_files = 0\n",
        "    folder_name = os.path.join(DATASET_PATH, word)\n",
        "    files = os.listdir(folder_name)\n",
        "    files = [f for f in files if \".wav\" in f]\n",
        "    for single_file in files:\n",
        "        filepath = os.path.join(folder_name, single_file)\n",
        "        this_fs, this_audio = wavfile.read(filepath)\n",
        "        if this_audio.size < this_fs:\n",
        "            os.remove(filepath)\n",
        "            removed_files += 1\n",
        "    print(\"Word '%s': %d files removed\" % (word, removed_files))"
      ]
    },
    {
      "cell_type": "markdown",
      "metadata": {
        "id": "cArowLoAtDWX"
      },
      "source": [
        "Como siguiente paso, se dividirá la base de datos en los conjuntos de entrenamiento, validación y prueba. Esta división se hará identificando cada sujeto grabado y asignándolo a cada conjunto de forma aleatoria (pero reproducible fijando una semilla) para que el 80% de los sujetos sea de entrenamiento, el 10% de validación, y el restante 10% de prueba. De esta forma, el modelo se evaluará siempre en grabaciones de sujetos que no fueron escuchados previamente."
      ]
    },
    {
      "cell_type": "code",
      "execution_count": 12,
      "metadata": {
        "colab": {
          "base_uri": "https://localhost:8080/"
        },
        "id": "5e919UxZFVUe",
        "outputId": "75a3fca7-aefd-4362-e439-9932bad73659"
      },
      "outputs": [
        {
          "output_type": "stream",
          "name": "stdout",
          "text": [
            "'down': Train 2805 - Val 413 - Test 362\n",
            "'go': Train 2767 - Val 370 - Test 341\n",
            "'left': Train 2779 - Val 373 - Test 350\n",
            "'no': Train 2812 - Val 386 - Test 347\n",
            "'off': Train 2741 - Val 349 - Test 337\n",
            "'on': Train 2729 - Val 394 - Test 348\n",
            "'right': Train 2756 - Val 370 - Test 322\n",
            "'stop': Train 2829 - Val 402 - Test 332\n",
            "'up': Train 2582 - Val 363 - Test 324\n",
            "'yes': Train 2943 - Val 402 - Test 347\n"
          ]
        }
      ],
      "source": [
        "train_fraction = 0.8\n",
        "val_fraction = 0.1\n",
        "\n",
        "# -----------------------------\n",
        "\n",
        "# Fin and split subjects\n",
        "subject_ids = []\n",
        "for word in WORDS:\n",
        "    folder_name = os.path.join(DATASET_PATH, word)\n",
        "    files = os.listdir(folder_name)\n",
        "    files = [f for f in files if \".wav\" in f]\n",
        "    # First string of filename is subject ID\n",
        "    word_subject_ids = [f.split(\"_\")[0] for f in files]\n",
        "    word_subject_ids = np.unique(word_subject_ids)\n",
        "    subject_ids.extend(word_subject_ids)\n",
        "subject_ids = list(set(subject_ids))\n",
        "subject_ids.sort()\n",
        "\n",
        "# Random but reproducible shuffle of all subjects found in dataset\n",
        "subject_ids = np.random.RandomState(seed=0).permutation(subject_ids)\n",
        "n_subjects = len(subject_ids)\n",
        "cut_train = int(train_fraction * n_subjects)\n",
        "cut_val = int((train_fraction + val_fraction) * n_subjects)\n",
        "train_subjects = subject_ids[:cut_train]\n",
        "val_subjects = subject_ids[cut_train:cut_val]\n",
        "test_subjects = subject_ids[cut_val:]\n",
        "\n",
        "# File split based on subject split\n",
        "split_dict = {'train': {}, 'val': {}, 'test': {}}\n",
        "for word in WORDS:\n",
        "    folder_name = os.path.join(DATASET_PATH, word)\n",
        "    files = os.listdir(folder_name)\n",
        "    files = [f for f in files if \".wav\" in f]\n",
        "    word_subject_ids = [f.split(\"_\")[0] for f in files]\n",
        "    n_files = len(files)\n",
        "    word_train_files = [files[i] for i in range(n_files) if word_subject_ids[i] in train_subjects]\n",
        "    word_val_files = [files[i] for i in range(n_files) if word_subject_ids[i] in val_subjects]\n",
        "    word_test_files = [files[i] for i in range(n_files) if word_subject_ids[i] in test_subjects]\n",
        "    print(\"'%s': Train %d - Val %d - Test %d\" % (word, len(word_train_files), len(word_val_files), len(word_test_files)))\n",
        "    split_dict['train'][word] = word_train_files\n",
        "    split_dict['val'][word] = word_val_files\n",
        "    split_dict['test'][word] = word_test_files"
      ]
    },
    {
      "cell_type": "markdown",
      "metadata": {
        "id": "K7K_AVMwvxRa"
      },
      "source": [
        "Finalmente, se procederá a calcular los MFCC de cada señal de audio de los conjuntos creados. Como se mencionó anteriormente, se usará un ancho de ventana de 100 ms, 50% de paso, y 13 coeficientes. Previo a calcular el MFCC, cada señal de audio $x$ se normaliza como:\n",
        "\n",
        "$$ x \\gets \\frac{x - \\mathrm{mean}(x)}{\\mathrm{std}(x)}$$"
      ]
    },
    {
      "cell_type": "code",
      "execution_count": 13,
      "metadata": {
        "colab": {
          "base_uri": "https://localhost:8080/"
        },
        "id": "poSXKV-9FSIH",
        "outputId": "477639eb-01bf-438b-b124-6cb0cfe77d8a"
      },
      "outputs": [
        {
          "output_type": "stream",
          "name": "stdout",
          "text": [
            "Using winlen 0.1 [s] and winstep 0.05 [s]\n",
            "Processing train set\n",
            "    class 0 ('down') done (E.T. 12.25 [s])\n",
            "    class 1 ('go') done (E.T. 20.35 [s])\n",
            "    class 2 ('left') done (E.T. 27.92 [s])\n",
            "    class 3 ('no') done (E.T. 35.50 [s])\n",
            "    class 4 ('off') done (E.T. 43.83 [s])\n",
            "    class 5 ('on') done (E.T. 51.90 [s])\n",
            "    class 6 ('right') done (E.T. 59.02 [s])\n",
            "    class 7 ('stop') done (E.T. 66.44 [s])\n",
            "    class 8 ('up') done (E.T. 73.66 [s])\n",
            "    class 9 ('yes') done (E.T. 81.01 [s])\n",
            "Processing val set\n",
            "    class 0 ('down') done (E.T. 82.03 [s])\n",
            "    class 1 ('go') done (E.T. 82.96 [s])\n",
            "    class 2 ('left') done (E.T. 84.42 [s])\n",
            "    class 3 ('no') done (E.T. 85.71 [s])\n",
            "    class 4 ('off') done (E.T. 86.55 [s])\n",
            "    class 5 ('on') done (E.T. 87.50 [s])\n",
            "    class 6 ('right') done (E.T. 88.38 [s])\n",
            "    class 7 ('stop') done (E.T. 89.36 [s])\n",
            "    class 8 ('up') done (E.T. 90.23 [s])\n",
            "    class 9 ('yes') done (E.T. 91.22 [s])\n",
            "Processing test set\n",
            "    class 0 ('down') done (E.T. 92.08 [s])\n",
            "    class 1 ('go') done (E.T. 92.89 [s])\n",
            "    class 2 ('left') done (E.T. 93.75 [s])\n",
            "    class 3 ('no') done (E.T. 94.61 [s])\n",
            "    class 4 ('off') done (E.T. 95.49 [s])\n",
            "    class 5 ('on') done (E.T. 96.85 [s])\n",
            "    class 6 ('right') done (E.T. 97.98 [s])\n",
            "    class 7 ('stop') done (E.T. 98.77 [s])\n",
            "    class 8 ('up') done (E.T. 99.58 [s])\n",
            "    class 9 ('yes') done (E.T. 100.42 [s])\n",
            "Data preparation done (E.T. 100.42 [s])\n",
            "Checkpoint created win100_train.npz\n",
            "Checkpoint created win100_val.npz\n",
            "Checkpoint created win100_test.npz\n"
          ]
        }
      ],
      "source": [
        "winlen_ms = 100  # Window size, in miliseconds\n",
        "winstep_ms = 0.5 * winlen_ms  # Step size for sliding window, in miliseconds\n",
        "numcep = 13  # Number of MFCC\n",
        "\n",
        "# -------------------------------\n",
        "set_names = list(split_dict.keys())\n",
        "winlen = winlen_ms / 1000\n",
        "winstep = winstep_ms / 1000\n",
        "print(\"Using winlen %s [s] and winstep %s [s]\" % (winlen, winstep))\n",
        "start_time = time.time()\n",
        "dataset_dict = {}\n",
        "for set_name in set_names:\n",
        "    set_mfcc = []\n",
        "    set_labels = []\n",
        "    print(\"Processing %s set\" % set_name)\n",
        "    for label, word in zip(WORDS_LABEL, WORDS):\n",
        "        folder_name = os.path.join(DATASET_PATH, word)\n",
        "        set_files = split_dict[set_name][word]\n",
        "        word_mfcc = []\n",
        "        for single_file in set_files:\n",
        "            filepath = os.path.join(folder_name, single_file)\n",
        "            file_fs, file_audio = wavfile.read(filepath)\n",
        "            nfft = int(2 ** np.ceil(np.log2(file_fs * winlen)))\n",
        "            file_audio = file_audio.astype(np.float32)\n",
        "            file_audio = (file_audio - file_audio.mean()) / file_audio.std()\n",
        "            file_mfcc = mfcc(\n",
        "                file_audio, file_fs,\n",
        "                winlen=winlen, winstep=winstep, numcep=numcep, nfft=nfft)\n",
        "            file_mfcc = file_mfcc.astype(np.float32)\n",
        "            word_mfcc.append(file_mfcc)\n",
        "        word_mfcc = np.stack(word_mfcc, axis=0)\n",
        "        n_examples = word_mfcc.shape[0]\n",
        "        word_labels = n_examples * [label]\n",
        "        word_labels = np.array(word_labels).astype(np.int32)\n",
        "        set_mfcc.append(word_mfcc)\n",
        "        set_labels.append(word_labels)\n",
        "        elap_time = time.time() - start_time\n",
        "        print(\"    class %d ('%s') done (E.T. %1.2f [s])\" % (label, word, elap_time))\n",
        "    set_mfcc = np.concatenate(set_mfcc, axis=0)\n",
        "    set_labels = np.concatenate(set_labels, axis=0)\n",
        "    dataset_dict[set_name] = {'x': set_mfcc, 'y': set_labels}\n",
        "elap_time = time.time() - start_time\n",
        "print(\"Data preparation done (E.T. %1.2f [s])\" % elap_time)\n",
        "for set_name in ['train', 'val', 'test']:\n",
        "    np.savez(\n",
        "        'win%d_%s.npz' % (winlen_ms, set_name),\n",
        "        x=dataset_dict[set_name]['x'],\n",
        "        y=dataset_dict[set_name]['y'])\n",
        "    print(\"Checkpoint created win%d_%s.npz\" % (winlen_ms, set_name))"
      ]
    },
    {
      "cell_type": "markdown",
      "metadata": {
        "id": "REb_67DZKwd-"
      },
      "source": [
        "<h2>Últimos ajustes de datos</h2>\n",
        "\n",
        "Los conjuntos de entrenamiento, validación y prueba de secuencias de MFCC generados anteriormente son tres pares $(x, y)$ de arreglos numpy. Los arreglos de entrada ($x$) contienen números reales y poseen dimensiones [número de ejemplos, número de pasos, número de características]. Específicamente, poseen dimensiones [?, 19, 13]. Por otro lado, los arreglos de salida ($y$) contienen números enteros y poseen dimensiones [número de ejemplos,], en donde cada fila de $y$ contiene la etiqueta de la fila correspondiente en $x$.\n",
        "\n",
        "Estos conjuntos fueron guardados en los archivos \"win100_SETNAME.npz\". No es necesario que vuelva a ejecutar la preparación de los datos si estos archivos ya existen en su máquina, ya que la siguiente celda carga los datos a partir de estos archivos.\n"
      ]
    },
    {
      "cell_type": "code",
      "execution_count": 14,
      "metadata": {
        "colab": {
          "base_uri": "https://localhost:8080/"
        },
        "id": "pAxQEm6BK6GI",
        "outputId": "77aa72f1-84e5-4d96-95b8-9662a0cb9729"
      },
      "outputs": [
        {
          "output_type": "stream",
          "name": "stdout",
          "text": [
            "Checkpoint found.\n",
            "train set with 27743 examples and 10 classes\n",
            "val set with 3822 examples and 10 classes\n",
            "test set with 3410 examples and 10 classes\n"
          ]
        }
      ],
      "source": [
        "# Load from checkpoint\n",
        "winlen_ms = 100\n",
        "set_names = ['train', 'val', 'test']\n",
        "verification = [os.path.isfile('win%d_%s.npz' % (winlen_ms, set_name)) for set_name in set_names]\n",
        "exists_checkpoint = np.all(verification)\n",
        "if exists_checkpoint:\n",
        "    print(\"Checkpoint found.\")\n",
        "    dataset_dict = {}\n",
        "    for set_name in set_names:\n",
        "        set_data = np.load('win%d_%s.npz' % (winlen_ms, set_name))\n",
        "        dataset_dict[set_name] = {'x': set_data['x'], 'y': set_data['y']}\n",
        "        n_examples = dataset_dict[set_name]['y'].size\n",
        "        n_classes = len(np.unique(dataset_dict[set_name]['y']))\n",
        "        print(\"%s set with %d examples and %d classes\" % (set_name, n_examples, n_classes))\n",
        "else:\n",
        "    raise FileNotFoundError(\"Some or all checkpoints were not found.\")\n",
        "\n",
        "# Unpacking arrays\n",
        "x_train, y_train = dataset_dict['train']['x'], dataset_dict['train']['y']\n",
        "x_val, y_val = dataset_dict['val']['x'], dataset_dict['val']['y']\n",
        "x_test, y_test = dataset_dict['test']['x'], dataset_dict['test']['y']"
      ]
    },
    {
      "cell_type": "markdown",
      "metadata": {
        "id": "UUb0yesv1Vka"
      },
      "source": [
        "Estos datos se normalizarán usando las estadísticas del conjunto de entrenamiento. Cada una de las 13 características se normalizará por separado. Finalmente, el conjunto de entrenamiento se revolverá de forma aleatoria (pero reproducible fijando una semilla)."
      ]
    },
    {
      "cell_type": "code",
      "execution_count": 15,
      "metadata": {
        "colab": {
          "base_uri": "https://localhost:8080/"
        },
        "id": "OzXc1U6iK6Dx",
        "outputId": "57577dc0-3c40-4c7f-d06d-1bd9a4085fca"
      },
      "outputs": [
        {
          "output_type": "stream",
          "name": "stdout",
          "text": [
            "19 timesteps, 13 features, 10 classes\n"
          ]
        }
      ],
      "source": [
        "# Normalize features with train statistics across all examples and timesteps\n",
        "x_train_mean = x_train.mean(axis=(0, 1))  # Mean of each of the 13 features\n",
        "x_train_std = x_train.std(axis=(0, 1))  # Std of each of the 13 features\n",
        "x_train = (x_train - x_train_mean) / x_train_std\n",
        "x_val = (x_val - x_train_mean) / x_train_std\n",
        "x_test = (x_test - x_train_mean) / x_train_std\n",
        "\n",
        "# # Random but reproducible shuffle of the training set\n",
        "n_train_data = y_train.size\n",
        "idx_permuted = np.random.RandomState(seed=0).permutation(range(n_train_data))\n",
        "x_train = x_train[idx_permuted]\n",
        "y_train = y_train[idx_permuted]\n",
        "\n",
        "# Shape of data is [batch, timesteps, feats]\n",
        "n_steps = x_train.shape[1]\n",
        "n_feats = x_train.shape[2]\n",
        "n_classes = len(np.unique(y_train))\n",
        "print(\"%d timesteps, %d features, %d classes\" % (n_steps, n_feats, n_classes))"
      ]
    },
    {
      "cell_type": "markdown",
      "metadata": {
        "id": "Z8R-qQz3glbh"
      },
      "source": [
        "<h2>Vanilla RNN: Implementación</h2>\n",
        "\n",
        "Ahora que los datos han sido completamente preprocesados, usted debe implementar una red neuronal recurrente del tipo \"vanilla\" o básica para esta tarea de clasificación.\n",
        "\n",
        "Sea $x=\\{x_1, x_2, \\ldots, x_T\\}$ una secuencia de entrada de $T=19$ pasos y $F=13$ características por paso. Es decir, $x_k\\in\\mathbb{R}^F,\\ k\\in\\{1,2,\\ldots,T\\}$. Sea $y\\in\\{0,1,\\ldots,C-1\\}$ la clase a la que pertenece la secuencia $x$, de $C=10$ clases posibles.\n",
        "\n",
        "Se solicita implementar la siguiente RNN:\n",
        "\n",
        "$$ h_0 = \\vec{0}$$\n",
        "$$ h_k = \\tanh \\left( W\\begin{bmatrix}x_k\\\\h_{k-1}\\end{bmatrix} + b \\right),\\ \\ k\\in\\{1,2,\\ldots, T\\}$$\n",
        "$$ z = W_zh_T+b_z$$\n",
        "$$\\hat{y} = \\mathrm{argmax}(z)$$\n",
        "\n",
        "Donde $h_k\\in\\mathbb{R}^H$ es el estado oculto, $H$ es la dimensionalidad de la capa recurrente, $h_0$ es un estado inicial nulo, $W$ y $b$ son los pesos y sesgos de la capa recurrente, $W_z$ y $b_z$ son los pesos y sesgos de la capa de salida, $z\\in\\mathbb{R}^C$ son los logits calculados a partir del último estado $h_T$, e $\\hat{y}\\in\\{0,1,\\ldots,C-1\\}$ es la clase predicha por la RNN.\n",
        "\n",
        "Especificaciones del modelo:\n",
        "- Dimensionalidad $H=32$.\n",
        "- Función de pérdida cross-entropy.\n",
        "- Optimizador Adam con $\\beta_{1}=0.9$ y $\\beta_{2}=0.999$ (valores típicos).\n",
        "- Entrenamiento por 200 épocas, validando en el conjunto de validación completo al final de cada época, con tamaño de batch 64.\n",
        "- Al finalizar el entrenamiento se debe preservar el mejor modelo, definido como aquél de mínima cross-entropy de validación.\n",
        "\n",
        "Instrucciones de programación:\n",
        "- Es libre de elegir la librería de redes neuronales de su preferencia. Se recomienda Tensorflow o Pytorch.\n",
        "- Independiente de la librería elegida, ustedes deben implementar las capas recurrentes. Es decir, para la arquitectura de la red neuronal solo se admite que usen de la librería capas fully-connected (nn.Linear en Pytorch, layers.Dense en Tensorflow), funciones de activación, y operaciones elementales como concatenación, suma, producto, multiplicación de matrices. Si lo desea, puede evitar usar capas fully-connected y simplemente crear y utilizar los pesos y sesgos directamente. Fuera de la implementación de las capas, es libre de usar todas las herramientas de la librería para construir el modelo y entrenarlo.\n",
        "- Por simplicidad, se sugiere implementar la recurrencia con un ciclo for, pero no es obligatorio.\n",
        "- Debe implementar su modelo en una clase llamada \"ModelVanillaRNN\".\n",
        "- La clase debe implementar un método \"fit\" para entrenar en datos $(x_{train}$, $y_{train})$ y validar en datos $(x_{val}, y_{val})$. Al entrenar el modelo, se debe entregar la evolución de cross-entropy y accuracy a lo largo de las épocas.\n",
        "- La clase debe implementar un método \"evaluate\" para evaluar el accuracy en datos $(x, y)$.\n",
        "- Es libre de implementar métodos adicionales si lo desea.\n",
        "\n",
        "Implemente su modelo en la siguiente celda. Sea ordenado y claro en su código. Comente adecuadamente. Elija nombres significativos para sus variables."
      ]
    },
    {
      "cell_type": "code",
      "source": [
        "import torch\n",
        "import torch.nn as nn\n",
        "\n",
        "device = torch.device('cuda')\n",
        "criterion = nn.CrossEntropyLoss()"
      ],
      "metadata": {
        "id": "KnRfMI75iQLr"
      },
      "execution_count": 16,
      "outputs": []
    },
    {
      "cell_type": "code",
      "source": [
        "y_train = y_train.astype(np.int64)\n",
        "y_val = y_val.astype(np.int64)\n",
        "y_test = y_test.astype(np.int64)"
      ],
      "metadata": {
        "id": "5k7Bn5KZCbPS"
      },
      "execution_count": 17,
      "outputs": []
    },
    {
      "cell_type": "code",
      "source": [
        "x_train.shape"
      ],
      "metadata": {
        "colab": {
          "base_uri": "https://localhost:8080/"
        },
        "id": "UgnBRpHb1QWF",
        "outputId": "4f4295b2-3ca8-43c4-c268-7470991df1dc"
      },
      "execution_count": 19,
      "outputs": [
        {
          "output_type": "execute_result",
          "data": {
            "text/plain": [
              "(27743, 19, 13)"
            ]
          },
          "metadata": {},
          "execution_count": 19
        }
      ]
    },
    {
      "cell_type": "code",
      "execution_count": 144,
      "metadata": {
        "id": "XtULZ4pgK57e"
      },
      "outputs": [],
      "source": [
        "class ModelVanillaRNN():\n",
        "  def __init__(\n",
        "      self,\n",
        "      learning_rate,\n",
        "      n_input_features=13,\n",
        "      n_input_steps=19,\n",
        "      n_hidden_dimension=32,\n",
        "      n_classes=10,\n",
        "      batch_size=64,\n",
        "      n_epochs=200\n",
        "  ):\n",
        "      self.learning_rate = learning_rate\n",
        "      self.n_input_features = n_input_features\n",
        "      self.n_input_steps = n_input_steps\n",
        "      self.n_hidden_dimension = n_hidden_dimension\n",
        "      self.n_classes = n_classes\n",
        "      self.batch_size = batch_size\n",
        "      self.n_epochs = n_epochs\n",
        "\n",
        "      self.Wxh = nn.Linear(self.n_input_features, self.n_hidden_dimension).to(device)\n",
        "      self.Whh = nn.Linear(self.n_hidden_dimension, self.n_hidden_dimension).to(device)\n",
        "      self.Why = nn.Linear(self.n_hidden_dimension, self.n_classes).to(device)\n",
        "\n",
        "      # self.rnn = nn.Sequential(nn.Linear(self.n_input_features, self.n_hidden_dimension),\n",
        "      #                          nn.Tanh(),\n",
        "      #                          nn.Linear(self.n_hidden_dimension, self.n_classes)).to(device)\n",
        "      # self.rnn = nn.Sequential(nn.Linear(self.n_input_features, self.n_hidden_dimension),\n",
        "      #                          nn.Tanh()).to(device)\n",
        "                              #  Despues tengo que ejecutar\n",
        "                              #  self.rnn.add_module(nn.Linear(self.n_hidden_dimension, self.n_classes))\n",
        "      # Agrupa los parámetros de todas las capas que forman la RNN\n",
        "      self.optimizer = torch.optim.Adam(\n",
        "          list(self.Wxh.parameters()) +\n",
        "          list(self.Whh.parameters()) +\n",
        "          list(self.Why.parameters()),\n",
        "          lr=self.learning_rate,\n",
        "          betas=(0.9, 0.999))\n",
        "\n",
        "  def fit(self, x_train, y_train, x_val, y_val):\n",
        "    train_dataset = torch.utils.data.TensorDataset(torch.tensor(x_train, dtype=torch.float32), torch.tensor(y_train, dtype=torch.long))\n",
        "    dataloader_train = torch.utils.data.DataLoader(train_dataset, batch_size=self.batch_size, shuffle=True, drop_last=True)\n",
        "\n",
        "    training_curves = []\n",
        "    val_train_curves = []\n",
        "\n",
        "    # Cáculo de la red, bucle en las épocas\n",
        "    for epoch in range(1, self.n_epochs + 1):\n",
        "\n",
        "      train_loss_per_sequence = []\n",
        "      val_loss_per_sequence = []\n",
        "      print(epoch)\n",
        "\n",
        "      loss = 0\n",
        "\n",
        "      # Cálculo de la red, bucle en la capa de recurrencia ( 0 -> T=19 )\n",
        "      for j in range(self.n_input_steps):\n",
        "\n",
        "        #Inicialización del estado h=0\n",
        "        h = torch.zeros(self.batch_size, self.n_hidden_dimension).to(device)\n",
        "\n",
        "        # Se crean los dataloaders para entregarle los datos a la red en batches de 64, se repite esto para cada T\n",
        "        # data_dict = [ {\"features\":dataset_dict['train']['x'][i,j,:], \"labels\":y_train[i]} for i in range(len(y_train)) ]\n",
        "        # dataloader_train = torch.utils.data.DataLoader(data_dict, batch_size=self.batch_size, num_workers=0, drop_last=True)\n",
        "\n",
        "        # data_dict = [ {\"features\":dataset_dict['val']['x'][i,j,:], \"labels\":y_val[i]} for i in range(len(y_val)) ]\n",
        "        # dataloader_val = torch.utils.data.DataLoader(data_dict, batch_size=self.batch_size, num_workers=0, drop_last=True)\n",
        "\n",
        "        batch_weights_train = []\n",
        "        batch_weights_val = []\n",
        "\n",
        "        train_loss_per_batch = []\n",
        "        val_loss_per_batch = []\n",
        "\n",
        "        # Cálculo de la red, bucle en el dataloader (todos los batches)\n",
        "        t=0\n",
        "        for batch in dataloader_train:\n",
        "          t+=1\n",
        "          self.Wxh.train()\n",
        "          self.Whh.train()\n",
        "          self.Why.train()\n",
        "\n",
        "          x_t = batch[\"features\"].to(device)\n",
        "          targets = batch[\"labels\"].to(device) # Correponde a las clases de los datos\n",
        "\n",
        "          # if t==434:\n",
        "          #   print(self.Whh(h).size(dim=0))\n",
        "\n",
        "          # 1) Update hidden state\n",
        "          h = torch.tanh(self.Wxh(x_t) + self.Whh(h.detach())) #\"corta\" la dependencia de h con el paso anterior usando .detach():\n",
        "          # h = torch.tanh(self.Wxh(x_t) + self.Whh(h))\n",
        "\n",
        "          # 2) Output from current hidden state\n",
        "          y_pred = self.Why(h).to(device)\n",
        "\n",
        "          # 3) Loss\n",
        "          loss += criterion(y_pred, targets)\n",
        "\n",
        "          # Igualar a 0 los gradientes de todas las variables optimizadas\n",
        "          self.optimizer.zero_grad()\n",
        "          loss.backward()\n",
        "          self.optimizer.step()\n",
        "\n",
        "          # Curva de entrenamiento\n",
        "          train_loss_per_batch.append(loss.item())\n",
        "\n",
        "          # Tamaño de cada batch para cáclulo de promedio ponderado\n",
        "          batch_weights_train.append(targets.size(0))\n",
        "\n",
        "          # prep model for evaluation\n",
        "          self.Wxh.eval()\n",
        "          self.Whh.eval()\n",
        "          self.Why.eval()\n",
        "\n",
        "          # for batch in dataloader_val:\n",
        "          #   with torch.no_grad():\n",
        "          #     inputs = batch[\"features\"].to(device)\n",
        "          #     targets = batch[\"labels\"].to(device)\n",
        "          #     output = self.rnn(inputs)\n",
        "          #     loss = criterion(output, targets)\n",
        "        # print(len(batch_weights_train))\n",
        "        train_loss_per_sequence.append(np.average(train_loss_per_batch, weights=batch_weights_train))\n",
        "        # break\n",
        "\n",
        "\n",
        "\n",
        "        # val_in_train_curves.append(loss.item())\n",
        "        # training_curves = None\n",
        "      #Calculo de un promedio ponderado\n",
        "      training_curves.append(np.average(train_loss_per_sequence))\n",
        "    plt.plot(training_curves, label='Training')\n",
        "    plt.plot(val_train_curves, label='Validation')\n",
        "    plt.legend()\n",
        "    plt.show()\n",
        "    return training_curves\n",
        "\n",
        "  def evaluate(self, x, y):\n",
        "      # --- Your code goes here ---\n",
        "      accuracy = 10\n",
        "      return accuracy"
      ]
    },
    {
      "cell_type": "code",
      "source": [
        "# len(dataset_dict['train']['x'][:,0,0]) # Todas las observaciones (N e [0,~27000])\n",
        "# len(dataset_dict['train']['x'][0,:,0]) # Todas las secuencias (T e [0,19])\n",
        "# len(dataset_dict['train']['x'][0,0,:]) # Todas las características (T e [0,13])"
      ],
      "metadata": {
        "id": "URMi8ElIwo32",
        "colab": {
          "base_uri": "https://localhost:8080/"
        },
        "outputId": "18a61d1c-74af-491f-ea62-b4d1b0692893"
      },
      "execution_count": 75,
      "outputs": [
        {
          "output_type": "execute_result",
          "data": {
            "text/plain": [
              "27743"
            ]
          },
          "metadata": {},
          "execution_count": 75
        }
      ]
    },
    {
      "cell_type": "code",
      "source": [
        "aux_dict = [ {\"features\":dataset_dict['train']['x'][i,0,:], \"labels\":y_train[i]} for i in range(len(dataset_dict['train']['x'][0,0,:])) ]"
      ],
      "metadata": {
        "id": "IQ4a33x92OFv"
      },
      "execution_count": 19,
      "outputs": []
    },
    {
      "cell_type": "markdown",
      "metadata": {
        "id": "T4p1H1AMTwAz"
      },
      "source": [
        "<h2>Vanilla RNN: Entrenamiento</h2>\n",
        "\n",
        "Con su modelo ya implementado, es hora de entrenar. Se solicita entrenar su modelo usando primero una tasa de aprendizaje 0.001 y luego una tasa de aprendizaje de 0.0005. En cada caso, debe entrenar su modelo 5 veces.\n",
        "\n",
        "Usando estas 5 corridas, usted debe:\n",
        "- Reportar el promedio y desviación estándar del accuracy en el conjunto de validación entregado por el mejor modelo de cada corrida.\n",
        "- Reportar el promedio y desviación estándar del accuracy en el conjunto de prueba entregado por el mejor modelo de cada corrida.\n",
        "- Graficar las 5 curvas de cross-entropy de validación superpuestas, destacando en cada una la iteración en donde se encontró el mejor modelo (mínima pérdida de validación).\n",
        "- Graficar las 5 curvas de accuracy de validación superpuestas, destacando en cada una la iteración en donde se encontró el mejor modelo (mínima pérdida de validación)."
      ]
    },
    {
      "cell_type": "code",
      "execution_count": 145,
      "metadata": {
        "id": "aN7V8AsoTwAz",
        "colab": {
          "base_uri": "https://localhost:8080/",
          "height": 349
        },
        "outputId": "be627fa3-b425-4dda-a246-90ad5561ee91"
      },
      "outputs": [
        {
          "output_type": "stream",
          "name": "stdout",
          "text": [
            "1\n"
          ]
        },
        {
          "output_type": "error",
          "ename": "TypeError",
          "evalue": "list indices must be integers or slices, not str",
          "traceback": [
            "\u001b[0;31m---------------------------------------------------------------------------\u001b[0m",
            "\u001b[0;31mTypeError\u001b[0m                                 Traceback (most recent call last)",
            "\u001b[0;32m/tmp/ipython-input-2316238186.py\u001b[0m in \u001b[0;36m<cell line: 0>\u001b[0;34m()\u001b[0m\n\u001b[1;32m      8\u001b[0m     \u001b[0mmy_rnn\u001b[0m \u001b[0;34m=\u001b[0m \u001b[0mModelVanillaRNN\u001b[0m\u001b[0;34m(\u001b[0m\u001b[0mlearning_rate\u001b[0m\u001b[0;34m=\u001b[0m\u001b[0mlearning_rate\u001b[0m\u001b[0;34m)\u001b[0m\u001b[0;34m\u001b[0m\u001b[0;34m\u001b[0m\u001b[0m\n\u001b[1;32m      9\u001b[0m     \u001b[0;31m# Train model\u001b[0m\u001b[0;34m\u001b[0m\u001b[0;34m\u001b[0m\u001b[0m\n\u001b[0;32m---> 10\u001b[0;31m     \u001b[0mtraining_curves\u001b[0m \u001b[0;34m=\u001b[0m \u001b[0mmy_rnn\u001b[0m\u001b[0;34m.\u001b[0m\u001b[0mfit\u001b[0m\u001b[0;34m(\u001b[0m\u001b[0mx_train\u001b[0m\u001b[0;34m,\u001b[0m \u001b[0my_train\u001b[0m\u001b[0;34m,\u001b[0m \u001b[0mx_val\u001b[0m\u001b[0;34m,\u001b[0m \u001b[0my_val\u001b[0m\u001b[0;34m)\u001b[0m\u001b[0;34m\u001b[0m\u001b[0;34m\u001b[0m\u001b[0m\n\u001b[0m\u001b[1;32m     11\u001b[0m \u001b[0;31m#     # Evaluate model\u001b[0m\u001b[0;34m\u001b[0m\u001b[0;34m\u001b[0m\u001b[0m\n\u001b[1;32m     12\u001b[0m \u001b[0;31m#     val_accuracy = my_rnn.evaluate(x_val, y_val)\u001b[0m\u001b[0;34m\u001b[0m\u001b[0;34m\u001b[0m\u001b[0m\n",
            "\u001b[0;32m/tmp/ipython-input-1384521096.py\u001b[0m in \u001b[0;36mfit\u001b[0;34m(self, x_train, y_train, x_val, y_val)\u001b[0m\n\u001b[1;32m     80\u001b[0m           \u001b[0mself\u001b[0m\u001b[0;34m.\u001b[0m\u001b[0mWhy\u001b[0m\u001b[0;34m.\u001b[0m\u001b[0mtrain\u001b[0m\u001b[0;34m(\u001b[0m\u001b[0;34m)\u001b[0m\u001b[0;34m\u001b[0m\u001b[0;34m\u001b[0m\u001b[0m\n\u001b[1;32m     81\u001b[0m \u001b[0;34m\u001b[0m\u001b[0m\n\u001b[0;32m---> 82\u001b[0;31m           \u001b[0mx_t\u001b[0m \u001b[0;34m=\u001b[0m \u001b[0mbatch\u001b[0m\u001b[0;34m[\u001b[0m\u001b[0;34m\"features\"\u001b[0m\u001b[0;34m]\u001b[0m\u001b[0;34m.\u001b[0m\u001b[0mto\u001b[0m\u001b[0;34m(\u001b[0m\u001b[0mdevice\u001b[0m\u001b[0;34m)\u001b[0m\u001b[0;34m\u001b[0m\u001b[0;34m\u001b[0m\u001b[0m\n\u001b[0m\u001b[1;32m     83\u001b[0m           \u001b[0mtargets\u001b[0m \u001b[0;34m=\u001b[0m \u001b[0mbatch\u001b[0m\u001b[0;34m[\u001b[0m\u001b[0;34m\"labels\"\u001b[0m\u001b[0;34m]\u001b[0m\u001b[0;34m.\u001b[0m\u001b[0mto\u001b[0m\u001b[0;34m(\u001b[0m\u001b[0mdevice\u001b[0m\u001b[0;34m)\u001b[0m \u001b[0;31m# Correponde a las clases de los datos\u001b[0m\u001b[0;34m\u001b[0m\u001b[0;34m\u001b[0m\u001b[0m\n\u001b[1;32m     84\u001b[0m \u001b[0;34m\u001b[0m\u001b[0m\n",
            "\u001b[0;31mTypeError\u001b[0m: list indices must be integers or slices, not str"
          ]
        }
      ],
      "source": [
        "learning_rate = 0.001\n",
        "\n",
        "vanilla_rnn_training_curves_list = []\n",
        "vanilla_rnn_val_accuracy_list = []\n",
        "vanilla_rnn_test_accuracy_list = []\n",
        "for i in range(1):\n",
        "    # Create model\n",
        "    my_rnn = ModelVanillaRNN(learning_rate=learning_rate)\n",
        "    # Train model\n",
        "    training_curves = my_rnn.fit(x_train, y_train, x_val, y_val)\n",
        "#     # Evaluate model\n",
        "#     val_accuracy = my_rnn.evaluate(x_val, y_val)\n",
        "#     test_accuracy = my_rnn.evaluate(x_test, y_test)\n",
        "#     # Save reports for later\n",
        "#     vanilla_rnn_training_curves_list.append(training_curves)\n",
        "#     vanilla_rnn_val_accuracy_list.append(val_accuracy)\n",
        "#     vanilla_rnn_test_accuracy_list.append(test_accuracy)\n",
        "# print(\"Learning rate: %s\" % learning_rate)\n",
        "# print(\"Validation accuracy: %1.1f \\u00B1 %1.1f %%\" % (\n",
        "#     np.mean(vanilla_rnn_val_accuracy_list),\n",
        "#     np.std(vanilla_rnn_val_accuracy_list)))\n",
        "# print(\"Test accuracy: %1.1f \\u00B1 %1.1f %%\" % (\n",
        "#     np.mean(vanilla_rnn_test_accuracy_list),\n",
        "#     np.std(vanilla_rnn_test_accuracy_list)))"
      ]
    },
    {
      "cell_type": "code",
      "execution_count": null,
      "metadata": {
        "id": "-A2mGvCpTwA0"
      },
      "outputs": [],
      "source": [
        "# --- Your plots go here ---\n"
      ]
    },
    {
      "cell_type": "code",
      "execution_count": null,
      "metadata": {
        "id": "68GQT-XMTwA0"
      },
      "outputs": [],
      "source": [
        "learning_rate = 0.0005\n",
        "\n",
        "vanilla_rnn_training_curves_list = []\n",
        "vanilla_rnn_val_accuracy_list = []\n",
        "vanilla_rnn_test_accuracy_list = []\n",
        "for i in range(5):\n",
        "    # Create model\n",
        "    my_rnn = ModelVanillaRNN(learning_rate=learning_rate)\n",
        "    # Train model\n",
        "    training_curves = my_rnn.fit(x_train, y_train, x_val, y_val)\n",
        "    # Evaluate model\n",
        "    val_accuracy = my_rnn.evaluate(x_val, y_val)\n",
        "    test_accuracy = my_rnn.evaluate(x_test, y_test)\n",
        "    # Save reports for later\n",
        "    vanilla_rnn_training_curves_list.append(training_curves)\n",
        "    vanilla_rnn_val_accuracy_list.append(val_accuracy)\n",
        "    vanilla_rnn_test_accuracy_list.append(test_accuracy)\n",
        "print(\"Learning rate: %s\" % learning_rate)\n",
        "print(\"Validation accuracy: %1.1f \\u00B1 %1.1f %%\" % (\n",
        "    np.mean(vanilla_rnn_val_accuracy_list),\n",
        "    np.std(vanilla_rnn_val_accuracy_list)))\n",
        "print(\"Test accuracy: %1.1f \\u00B1 %1.1f %%\" % (\n",
        "    np.mean(vanilla_rnn_test_accuracy_list),\n",
        "    np.std(vanilla_rnn_test_accuracy_list)))"
      ]
    },
    {
      "cell_type": "code",
      "execution_count": null,
      "metadata": {
        "id": "n_8Vg2ObTwA1"
      },
      "outputs": [],
      "source": [
        "# --- Your plots go here ---\n"
      ]
    },
    {
      "cell_type": "markdown",
      "metadata": {
        "id": "1xQ2EKQwTwA1"
      },
      "source": []
    },
    {
      "cell_type": "markdown",
      "metadata": {
        "id": "_nTKD-k3TwA1"
      },
      "source": [
        "<h2>LSTM RNN: Implementación</h2>\n",
        "\n",
        "Ahora usted debe implementar una red neuronal recurrente del tipo LSTM en dos versiones.\n",
        "\n",
        "1) Se solicita implementar la siguiente RNN usando la capa LSTM típica (sin \"peepholes connections\"):\n",
        "\n",
        "$$ h_0 = \\vec{0}$$\n",
        "$$ c_0 = \\vec{0}$$\n",
        "$$ h_k, c_k = \\mathrm{LSTM}(x_k, h_{k-1}, c_{k-1}),\\ \\ k\\in\\{1,2,\\ldots, T\\}$$\n",
        "$$ z = W_zh_T+b_z$$\n",
        "$$\\hat{y} = \\mathrm{argmax}(z)$$\n",
        "\n",
        "Donde $h_k,\\ c_k\\in\\mathbb{R}^H$ son respectivamente el estado oculto y la memoria, $H$ es la dimensionalidad de la capa recurrente, $h_0,\\ c_0$ son estados iniciales nulos, $W_z$ y $b_z$ son los pesos y sesgos de la capa de salida, $z\\in\\mathbb{R}^C$ son los logits calculados a partir del último estado $h_T$, e $\\hat{y}\\in\\{0,1,\\ldots,C-1\\}$ es la clase predicha por la RNN.\n",
        "\n",
        "Las especificaciones del modelo y las instrucciones de programación son las mismas que las entregadas para el modelo vanilla RNN, a excepción del nombre de la clase que debe ser \"ModelLSTM\".\n",
        "\n",
        "Siguiendo buenas prácticas, debe inicializar los sesgos de la compuerta de olvido (forget gate) en 1.\n",
        "\n",
        "Implemente su modelo en la siguiente celda. Sea ordenado y claro en su código. Comente adecuadamente. Elija nombres significativos para sus variables."
      ]
    },
    {
      "cell_type": "markdown",
      "metadata": {
        "id": "SXb8zemnTwA2"
      },
      "source": [
        "2) Se solicita implementar una LSTM  típica (sin \"peepholes connections\") con un mecanismo de atención en el contexto de clasificación.\n",
        "\n",
        "\n",
        "Supongamos lo siguiente:\n",
        "- La salida del LSTM está representada por $ \\mathbf{h} $, que es una matriz de forma $ (T \\times d) $, donde $ T $ es la longitud de la secuencia y $ d $ es la dimensión del vector oculto.\n",
        "- La transformación lineal en el mecanismo de atención está representada por un vector de pesos $ \\mathbf{W}_{\\text{attn}} $, que es un vector de forma $ (d \\times 1) $.\n",
        "\n",
        "El mecanismo de atención se puede describir mediante los siguientes pasos:\n",
        "\n",
        "1. **Transformación Lineal:**\n",
        "\n",
        "   \n",
        "   $$\\mathbf{a} = \\mathbf{h} \\cdot \\mathbf{W}_{\\text{attn}}$$\n",
        "   \n",
        "\n",
        "   Aquí, $ \\mathbf{a} $ es un vector de forma $ (T \\times 1) $, y cada elemento $ a_i $ representa el puntaje de atención para el paso de tiempo correspondiente $ i $.\n",
        "\n",
        "2. **Operación de Compresión (Squeeze):**\n",
        "\n",
        "   $$\n",
        "   \\mathbf{a} = \\text{Squeeze}(\\mathbf{a})\n",
        "   $$\n",
        "\n",
        "   Después de la operación de compresión, $ \\mathbf{a} $ se convierte en un vector de forma $ (T) $, donde cada $ a_i $ corresponde al puntaje de atención para el paso de tiempo $ i $.\n",
        "\n",
        "3. **Operación de Softmax:**\n",
        "\n",
        "   $$\n",
        "   \\alpha_i = \\frac{\\exp(a_i)}{\\sum_{j=1}^{T} \\exp(a_j)}\n",
        "   $$\n",
        "\n",
        "   Esta ecuación aplica la función softmax para obtener los pesos de atención normalizados $ \\alpha_i $, donde $ \\sum_{i=1}^{T} \\alpha_i = 1 $ y $ \\alpha_i \\geq 0 $.\n",
        "\n",
        "4. **Expansión de Dimensión:**\n",
        "\n",
        "   $$\n",
        "   \\alpha_i = \\text{expansion}(\\alpha_i)\n",
        "   $$\n",
        "\n",
        "   Aquí, se expande la dimensión de los pesos de atención para que coincidan con la forma de $ \\mathbf{h}$, resultando en un tensor de forma $ (T \\times 1)$ que luego puede ser multiplicado elemento a elemento con $ \\mathbf{h}$.\n",
        "\n",
        "5. **Ponderación de la Salida del LSTM:**\n",
        "\n",
        "   $$\n",
        "   \\mathbf{h'} = \\mathbf{h} \\times \\alpha\n",
        "   $$\n",
        "\n",
        "   Se multiplica elemento a elemento la salida del LSTM $ \\mathbf{h}$ por los pesos de atención $ \\alpha$ para obtener $ \\mathbf{h'}$, que es un tensor de forma $ (T \\times d)$.\n",
        "\n",
        "6. **Cálculo Final:**\n",
        "\n",
        "   $$ z = W_z\\sum_{i=1}^{T} \\mathbf{h'}_i+b_z$$\n",
        "   $$\\hat{y} = \\mathrm{argmax}(z)$$\n",
        "\n",
        "\n",
        "Todas las operaciones anteriores no incluyen el batch_size, ud tiene que adaptarlo en su código.\n",
        "\n",
        "\n",
        "Material de referencia:\n",
        "\n",
        "https://sebastianraschka.com/images/blog/2023/self-attention-from-scratch/context-vector.png\n",
        "\n"
      ]
    },
    {
      "cell_type": "code",
      "execution_count": null,
      "metadata": {
        "id": "VJUwTzUfTwA2"
      },
      "outputs": [],
      "source": [
        "class ModelLSTM():\n",
        "    def __init__(\n",
        "        self,\n",
        "        learning_rate,\n",
        "        n_input_features=13,\n",
        "        n_input_steps=19,\n",
        "        n_hidden_dimension=32,\n",
        "        n_classes=10,\n",
        "        batch_size=64,\n",
        "        n_epochs=200\n",
        "    ):\n",
        "        self.learning_rate = learning_rate\n",
        "        self.n_input_features = n_input_features\n",
        "        self.n_input_steps = n_input_steps\n",
        "        self.n_hidden_dimension = n_hidden_dimension\n",
        "        self.n_classes = n_classes\n",
        "        self.batch_size = batch_size\n",
        "        self.n_epochs = n_epochs\n",
        "        # --- Your code goes here ---\n",
        "\n",
        "    def fit(self, x_train, y_train, x_val, y_val):\n",
        "        # --- Your code goes here ---\n",
        "        training_curves = None\n",
        "        return training_curves\n",
        "\n",
        "    def evaluate(self, x, y):\n",
        "        # --- Your code goes here ---\n",
        "        accuracy = 10\n",
        "        return accuracy"
      ]
    },
    {
      "cell_type": "markdown",
      "metadata": {
        "id": "tjZuiigTTwA_"
      },
      "source": [
        "<h2>LSTM RNN: Entrenamiento</h2>\n",
        "\n",
        "Entrene su modelo LSTM con las mismas instrucciones entregadas para vanilla RNN."
      ]
    },
    {
      "cell_type": "code",
      "execution_count": null,
      "metadata": {
        "id": "6TaIyA8tTwBA"
      },
      "outputs": [],
      "source": [
        "learning_rate = 0.001\n",
        "\n",
        "lstm_rnn_training_curves_list = []\n",
        "lstm_rnn_val_accuracy_list = []\n",
        "lstm_rnn_test_accuracy_list = []\n",
        "for i in range(5):\n",
        "    # Create model\n",
        "    my_rnn = ModelLSTM(learning_rate=learning_rate)\n",
        "    # Train model\n",
        "    training_curves = my_rnn.fit(x_train, y_train, x_val, y_val)\n",
        "    # Evaluate model\n",
        "    val_accuracy = my_rnn.evaluate(x_val, y_val)\n",
        "    test_accuracy = my_rnn.evaluate(x_test, y_test)\n",
        "    # Save reports for later\n",
        "    lstm_rnn_training_curves_list.append(training_curves)\n",
        "    lstm_rnn_val_accuracy_list.append(val_accuracy)\n",
        "    lstm_rnn_test_accuracy_list.append(test_accuracy)\n",
        "print(\"Learning rate: %s\" % learning_rate)\n",
        "print(\"Validation accuracy: %1.1f \\u00B1 %1.1f %%\" % (\n",
        "    np.mean(lstm_rnn_val_accuracy_list),\n",
        "    np.std(lstm_rnn_val_accuracy_list)))\n",
        "print(\"Test accuracy: %1.1f \\u00B1 %1.1f %%\" % (\n",
        "    np.mean(lstm_rnn_test_accuracy_list),\n",
        "    np.std(lstm_rnn_test_accuracy_list)))"
      ]
    },
    {
      "cell_type": "code",
      "execution_count": null,
      "metadata": {
        "id": "yvAdzCQDTwBA"
      },
      "outputs": [],
      "source": [
        "# --- Your plots go here ---\n"
      ]
    },
    {
      "cell_type": "code",
      "execution_count": null,
      "metadata": {
        "id": "5L9ECFA7TwBB"
      },
      "outputs": [],
      "source": [
        "learning_rate = 0.0005\n",
        "\n",
        "lstm_rnn_training_curves_list = []\n",
        "lstm_rnn_val_accuracy_list = []\n",
        "lstm_rnn_test_accuracy_list = []\n",
        "for i in range(5):\n",
        "    # Create model\n",
        "    my_rnn = ModelLSTM(learning_rate=learning_rate)\n",
        "    # Train model\n",
        "    training_curves = my_rnn.fit(x_train, y_train, x_val, y_val)\n",
        "    # Evaluate model\n",
        "    val_accuracy = my_rnn.evaluate(x_val, y_val)\n",
        "    test_accuracy = my_rnn.evaluate(x_test, y_test)\n",
        "    # Save reports for later\n",
        "    lstm_rnn_training_curves_list.append(training_curves)\n",
        "    lstm_rnn_val_accuracy_list.append(val_accuracy)\n",
        "    lstm_rnn_test_accuracy_list.append(test_accuracy)\n",
        "print(\"Learning rate: %s\" % learning_rate)\n",
        "print(\"Validation accuracy: %1.1f \\u00B1 %1.1f %%\" % (\n",
        "    np.mean(lstm_rnn_val_accuracy_list),\n",
        "    np.std(lstm_rnn_val_accuracy_list)))\n",
        "print(\"Test accuracy: %1.1f \\u00B1 %1.1f %%\" % (\n",
        "    np.mean(lstm_rnn_test_accuracy_list),\n",
        "    np.std(lstm_rnn_test_accuracy_list)))"
      ]
    },
    {
      "cell_type": "code",
      "execution_count": null,
      "metadata": {
        "id": "VW3qKdIlTwBC"
      },
      "outputs": [],
      "source": [
        "# --- Your plots go here ---\n"
      ]
    },
    {
      "cell_type": "markdown",
      "metadata": {
        "id": "9gqO0Ak-TwBC"
      },
      "source": [
        "<h2>Análisis de resultados</h2>\n",
        "\n",
        "Responda las siguientes preguntas en base a sus resultados."
      ]
    },
    {
      "cell_type": "markdown",
      "metadata": {
        "id": "-UEKjPEQTwBC"
      },
      "source": [
        "1) Indique la mejor tasa de aprendizaje para cada arquitectura. ¿Existen diferencias significativas en el entrenamiento al cambiar la tasa de aprendizaje? ¿Cuál arquitectura es más estable? Explique diferencias en base a sus conocimientos teóricos.\n",
        "\n",
        "Respuesta:"
      ]
    },
    {
      "cell_type": "markdown",
      "metadata": {
        "id": "bsDy36VYTwBC"
      },
      "source": [
        "2) Compare Vanilla RNN y LSTM en términos del desempeño alcanzado, el costo computacional, el número de iteraciones necesarias para encontrar el mejor modelo, y la sensibilidad a la inicialización de la red ¿Cuál arquitectura es más fácil de entrenar? Explique diferencias en base a sus conocimientos teóricos.\n",
        "\n",
        "Respuesta:"
      ]
    },
    {
      "cell_type": "markdown",
      "metadata": {
        "id": "2VCS9rcRTwBD"
      },
      "source": [
        "3) Compare la LSTM y la Att-LSTM en términos del desempeño alcanzado, el costo computacional, el número de iteraciones necesarias para encontrar el mejor modelo, y la sensibilidad a la inicialización de la red ¿Cuál arquitectura es más fácil de entrenar? Explique diferencias en base a sus conocimientos teóricos.\n",
        "\n",
        "Respuesta:"
      ]
    },
    {
      "cell_type": "markdown",
      "metadata": {
        "id": "RLHvwJZuTwBD"
      },
      "source": [
        "4) El sobre-ajuste refleja que el modelo tiene una gran capacidad con respecto a la base de datos, ya que es capaz de memorizar los datos de entrenamiento de forma relativamente fácil ¿En qué arquitectura es posible observar sobre-ajuste? ¿Por qué una arquitectura se logra sobre-ajustar y la otra no? ¿Qué sugeriría para aprovechar la mayor capacidad del modelo que se logra sobre-ajustar y mejorar el desempeño, sin modificar el tamaño de sus capas neuronales?\n",
        "\n",
        "Respuesta:"
      ]
    },
    {
      "cell_type": "markdown",
      "metadata": {
        "id": "FKrtNNP5TwBD"
      },
      "source": [
        "<h2>Pregunta Bonus + 0.5 </h2>\n",
        "\n",
        "Implemente este modelo LSTM https://github.com/NX-AI/xlstm y ejecute un nuevo entrenamiento con los datos descritos anteriormente y compare el rendimiento logrado. Explique diferencias de la LSTM y la xLSTM en base a sus conocimientos teóricos.\n",
        "\n",
        "\n",
        "Respuesta:"
      ]
    },
    {
      "cell_type": "markdown",
      "metadata": {
        "id": "t-ulX71ITwBD"
      },
      "source": []
    }
  ],
  "metadata": {
    "colab": {
      "provenance": [],
      "gpuType": "T4",
      "include_colab_link": true
    },
    "kernelspec": {
      "display_name": "Python 3",
      "name": "python3"
    },
    "language_info": {
      "codemirror_mode": {
        "name": "ipython",
        "version": 3
      },
      "file_extension": ".py",
      "mimetype": "text/x-python",
      "name": "python",
      "nbconvert_exporter": "python",
      "pygments_lexer": "ipython3",
      "version": "3.8.10"
    },
    "accelerator": "GPU"
  },
  "nbformat": 4,
  "nbformat_minor": 0
}